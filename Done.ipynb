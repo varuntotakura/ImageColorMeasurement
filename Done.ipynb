{
 "cells": [
  {
   "cell_type": "code",
   "execution_count": 4,
   "metadata": {
    "collapsed": true
   },
   "outputs": [],
   "source": [
    "# import the necessary packages\n",
    "from imutils import build_montages\n",
    "from imutils import paths\n",
    "import numpy as np\n",
    "import argparse\n",
    "import imutils\n",
    "import cv2\n",
    "im_file_1 = 'download.png'\n",
    "im_file_2 = 'download (1).png'"
   ]
  },
  {
   "cell_type": "code",
   "execution_count": 5,
   "metadata": {
    "collapsed": true
   },
   "outputs": [],
   "source": [
    "def image_colorfulness(image):\n",
    "    # split the image into its respective RGB components\n",
    "    (B, G, R) = cv2.split(image.astype(\"float\"))\n",
    " \n",
    "    # compute rg = R - G\n",
    "    rg = np.absolute(R - G)\n",
    " \n",
    "    # compute yb = 0.5 * (R + G) - B\n",
    "    yb = np.absolute(0.5 * (R + G) - B)\n",
    " \n",
    "    # compute the mean and standard deviation of both `rg` and `yb`\n",
    "    (rbMean, rbStd) = (np.mean(rg), np.std(rg))\n",
    "    (ybMean, ybStd) = (np.mean(yb), np.std(yb))\n",
    " \n",
    "    # combine the mean and standard deviations\n",
    "    stdRoot = np.sqrt((rbStd ** 2) + (ybStd ** 2))\n",
    "    meanRoot = np.sqrt((rbMean ** 2) + (ybMean ** 2))\n",
    " \n",
    "    # derive the \"colorfulness\" metric and return it\n",
    "    return stdRoot + (0.3 * meanRoot)"
   ]
  },
  {
   "cell_type": "code",
   "execution_count": 6,
   "metadata": {},
   "outputs": [
    {
     "name": "stdout",
     "output_type": "stream",
     "text": [
      "[INFO] computing colorfulness metric for dataset...\n"
     ]
    }
   ],
   "source": [
    "# initialize the results list\n",
    "print(\"[INFO] computing colorfulness metric for dataset...\")\n",
    "results = []\n",
    "imgs = [im_file_1, im_file_2]\n",
    " \n",
    "# loop over the image paths\n",
    "for imagePath in imgs:\n",
    "    # load the image, resize it (to speed up computation), and\n",
    "    # compute the colorfulness metric for the image\n",
    "    image = cv2.imread(imagePath)\n",
    "    image = imutils.resize(image, width=250)\n",
    "    C = image_colorfulness(image)\n",
    "    \n",
    "    # display the colorfulness score on the image\n",
    "    cv2.putText(image, \"{:.2f}\".format(C), (40, 40), \n",
    "        cv2.FONT_HERSHEY_SIMPLEX, 1.4, (0, 255, 0), 3)\n",
    " \n",
    "    # add the image and colorfulness metric to the results list\n",
    "    results.append((image, C))"
   ]
  },
  {
   "cell_type": "code",
   "execution_count": 7,
   "metadata": {},
   "outputs": [
    {
     "name": "stdout",
     "output_type": "stream",
     "text": [
      "[INFO] displaying results...\n"
     ]
    }
   ],
   "source": [
    "# sort the results with more colorful images at the front of the\n",
    "# list, then build the lists of the *most colorful* and *least\n",
    "# colorful* images\n",
    "print(\"[INFO] displaying results...\")\n",
    "results = sorted(results, key=lambda x: x[1], reverse=True)\n",
    "mostColor = [r[0] for r in results[:25]]\n",
    "leastColor = [r[0] for r in results[-25:]][::-1]"
   ]
  },
  {
   "cell_type": "code",
   "execution_count": 8,
   "metadata": {
    "collapsed": true
   },
   "outputs": [],
   "source": [
    "# construct the montages for the two sets of images\n",
    "mostColorMontage = build_montages(mostColor, (128, 128), (5, 5))\n",
    "leastColorMontage = build_montages(leastColor, (128, 128), (5, 5))"
   ]
  },
  {
   "cell_type": "code",
   "execution_count": 11,
   "metadata": {},
   "outputs": [
    {
     "data": {
      "text/plain": [
       "-1"
      ]
     },
     "execution_count": 11,
     "metadata": {},
     "output_type": "execute_result"
    }
   ],
   "source": [
    "# display the images\n",
    "cv2.imshow(\"Most Colorful\", mostColorMontage[0])\n",
    "cv2.imshow(\"Least Colorful\", leastColorMontage[0])\n",
    "cv2.waitKey(0)"
   ]
  },
  {
   "cell_type": "code",
   "execution_count": null,
   "metadata": {
    "collapsed": true
   },
   "outputs": [],
   "source": []
  }
 ],
 "metadata": {
  "kernelspec": {
   "display_name": "Python 3",
   "language": "python",
   "name": "python3"
  },
  "language_info": {
   "codemirror_mode": {
    "name": "ipython",
    "version": 3
   },
   "file_extension": ".py",
   "mimetype": "text/x-python",
   "name": "python",
   "nbconvert_exporter": "python",
   "pygments_lexer": "ipython3",
   "version": "3.6.8"
  }
 },
 "nbformat": 4,
 "nbformat_minor": 2
}
