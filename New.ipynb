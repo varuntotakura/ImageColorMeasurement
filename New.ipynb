{
 "cells": [
  {
   "cell_type": "code",
   "execution_count": 2,
   "metadata": {},
   "outputs": [
    {
     "name": "stdout",
     "output_type": "stream",
     "text": [
      "Angry_1.png\t0.6520683001648264\n",
      "Angry_2.png\t0.7362700469515172\n",
      "Angry_3.png\t0.8098998943777846\n",
      "Angry_4.png\t0.6996472778380809\n",
      "Angry_5.png\t0.7284358320501598\n",
      "BAS_1.png\t0.7440021295065322\n",
      "BAS_2.png\t0.8105425546622428\n",
      "BAS_3.png\t0.7363863491292186\n",
      "BAS_4.png\t0.7471893263013575\n",
      "BAS_5.png\t0.8091174056131466\n",
      "download (1).png\t0.7362700469515172\n",
      "download.png\t0.8098998943777846\n",
      "Hungry_1.png\t0.8166143712241051\n",
      "Hungry_2.png\t0.7623777047605174\n",
      "Owner_1.png\t0.684289605584351\n"
     ]
    }
   ],
   "source": [
    "import sys\n",
    "from PIL import Image\n",
    "\n",
    "def calculate_brightness(image):\n",
    "    greyscale_image = image.convert('L')\n",
    "    histogram = greyscale_image.histogram()\n",
    "    pixels = sum(histogram)\n",
    "    brightness = scale = len(histogram)\n",
    "\n",
    "    for index in range(0, scale):\n",
    "        ratio = histogram[index] / pixels\n",
    "        brightness += ratio * (-scale + index)\n",
    "\n",
    "    return 1 if brightness == 255 else brightness / scale\n",
    "\n",
    "imgs = ['Angry_1.png', 'Angry_2.png', 'Angry_3.png', 'Angry_4.png', 'Angry_5.png', 'BAS_1.png', 'BAS_2.png', 'BAS_3.png',\n",
    "        'BAS_4.png', 'BAS_5.png', 'download (1).png', 'download.png', 'Hungry_1.png', 'Hungry_2.png', 'Owner_1.png']\n",
    "if __name__ == '__main__':\n",
    "    for file in imgs:\n",
    "        image = Image.open(file)\n",
    "        print(\"%s\\t%s\" % (file, calculate_brightness(image)))"
   ]
  },
  {
   "cell_type": "code",
   "execution_count": 74,
   "metadata": {},
   "outputs": [
    {
     "name": "stdout",
     "output_type": "stream",
     "text": [
      "[INFO] computing colorfulness metric for dataset...\n",
      "[INFO] displaying results...\n"
     ]
    },
    {
     "data": {
      "text/plain": [
       "-1"
      ]
     },
     "execution_count": 74,
     "metadata": {},
     "output_type": "execute_result"
    }
   ],
   "source": [
    "# import the necessary packages\n",
    "from imutils import build_montages\n",
    "from imutils import paths\n",
    "import numpy as np\n",
    "import argparse\n",
    "import imutils\n",
    "import cv2\n",
    "im_file_1 = 'download.png'\n",
    "im_file_2 = 'download (1).png'\n",
    "def image_colorfulness(image):\n",
    "    # split the image into its respective RGB components\n",
    "    (B, G, R) = cv2.split(image.astype(\"float\"))\n",
    " \n",
    "    # compute rg = R - G\n",
    "    rg = np.absolute(R - G)\n",
    " \n",
    "    # compute yb = 0.5 * (R + G) - B\n",
    "    yb = np.absolute(0.5 * (R + G) - B)\n",
    " \n",
    "    # compute the mean and standard deviation of both `rg` and `yb`\n",
    "    (rbMean, rbStd) = (np.mean(rg), np.std(rg))\n",
    "    (ybMean, ybStd) = (np.mean(yb), np.std(yb))\n",
    " \n",
    "    # combine the mean and standard deviations\n",
    "    stdRoot = np.sqrt((rbStd ** 2) + (ybStd ** 2))\n",
    "    meanRoot = np.sqrt((rbMean ** 2) + (ybMean ** 2))\n",
    " \n",
    "    # derive the \"colorfulness\" metric and return it\n",
    "    return stdRoot + (0.3 * meanRoot)\n",
    "# initialize the results list\n",
    "print(\"[INFO] computing colorfulness metric for dataset...\")\n",
    "results = []\n",
    "imgs = ['Angry_1.png', 'Angry_2.png', 'Angry_3.png', 'Angry_4.png', 'Angry_5.png', 'BAS_1.png', 'BAS_2.png', 'BAS_3.png',\n",
    "        'BAS_4.png', 'BAS_5.png', 'download (1).png', 'download.png', 'Hungry_1.png', 'Hungry_2.png', 'Owner_1.png']\n",
    " \n",
    "# loop over the image paths\n",
    "for imagePath in imgs:\n",
    "    # load the image, resize it (to speed up computation), and\n",
    "    # compute the colorfulness metric for the image\n",
    "    image = cv2.imread(imagePath)\n",
    "    image = imutils.resize(image, width=250)\n",
    "    C = image_colorfulness(image)\n",
    "    C = round(C, 2)\n",
    "    imgp = imagePath.split(\".\")[0]+\"-\"+str(C)\n",
    "    # display the colorfulness score on the image\n",
    "    cv2.putText(image,\"{}\".format(imgp), (5, 60),\n",
    "                cv2.FONT_HERSHEY_SIMPLEX, 0.75, (0, 0, 0), 2)\n",
    "    # add the image and colorfulness metric to the results list\n",
    "    results.append((image, C))\n",
    "# sort the results with more colorful images at the front of the\n",
    "# list, then build the lists of the *most colorful* and *least\n",
    "# colorful* images\n",
    "print(\"[INFO] displaying results...\")\n",
    "results = sorted(results, key=lambda x: x[1], reverse=True)\n",
    "mostColor = [r[0] for r in results[:25]]\n",
    "leastColor = [r[0] for r in results[-25:]][::-1]\n",
    "# construct the montages for the two sets of images\n",
    "mostColorMontage = build_montages(mostColor, (150, 150), (3, 5))\n",
    "leastColorMontage = build_montages(leastColor, (150, 150), (3, 5))\n",
    "#leastColorMontage = build_montages(leastColor, (128, 128), (5, 5))\n",
    "# display the images\n",
    "cv2.imshow(\"Most Colorful\", mostColorMontage[0])\n",
    "cv2.imshow(\"Least Colorful\", leastColorMontage[0])\n",
    "cv2.waitKey(0)"
   ]
  },
  {
   "cell_type": "code",
   "execution_count": null,
   "metadata": {
    "collapsed": true
   },
   "outputs": [],
   "source": []
  }
 ],
 "metadata": {
  "kernelspec": {
   "display_name": "Python 3",
   "language": "python",
   "name": "python3"
  },
  "language_info": {
   "codemirror_mode": {
    "name": "ipython",
    "version": 3
   },
   "file_extension": ".py",
   "mimetype": "text/x-python",
   "name": "python",
   "nbconvert_exporter": "python",
   "pygments_lexer": "ipython3",
   "version": "3.6.8"
  }
 },
 "nbformat": 4,
 "nbformat_minor": 2
}
