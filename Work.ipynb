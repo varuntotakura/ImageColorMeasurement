{
 "cells": [
  {
   "cell_type": "code",
   "execution_count": 10,
   "metadata": {
    "collapsed": true
   },
   "outputs": [],
   "source": [
    "# Brightness\n",
    "from PIL import Image, ImageStat\n",
    "im_file_1 = 'download.png'\n",
    "im_file_2 = 'download (1).png'"
   ]
  },
  {
   "cell_type": "code",
   "execution_count": 11,
   "metadata": {},
   "outputs": [],
   "source": [
    "def brightness_1( im_file ):\n",
    "   im = Image.open(im_file).convert('L')\n",
    "   stat = ImageStat.Stat(im)\n",
    "   return stat.mean[0]\n",
    "\n",
    "def brightness_2( im_file ):\n",
    "   im = Image.open(im_file).convert('L')\n",
    "   stat = ImageStat.Stat(im)\n",
    "   return stat.rms[0]\n",
    "\n",
    "# def brightness_3( im_file ):\n",
    "#    im = Image.open(im_file)\n",
    "#    stat = ImageStat.Stat(im)\n",
    "#    r,g,b = stat.mean\n",
    "#    return math.sqrt(0.241*(r**2) + 0.691*(g**2) + 0.068*(b**2))\n",
    "\n",
    "# def brightness_4( im_file ):\n",
    "#    im = Image.open(im_file)\n",
    "#    stat = ImageStat.Stat(im)\n",
    "#    r,g,b = stat.rms\n",
    "#    return math.sqrt(0.241*(r**2) + 0.691*(g**2) + 0.068*(b**2))\n",
    "\n",
    "# def brightness_5( im_file ):\n",
    "#    im = Image.open(im_file)\n",
    "#    stat = ImageStat.Stat(im)\n",
    "#    gs = (math.sqrt(0.241*(r**2) + 0.691*(g**2) + 0.068*(b**2)) \n",
    "#          for r,g,b in im.getdata())\n",
    "#    return sum(gs)/stat.count[0]"
   ]
  },
  {
   "cell_type": "code",
   "execution_count": 12,
   "metadata": {},
   "outputs": [
    {
     "data": {
      "text/plain": [
       "207.33437296071293"
      ]
     },
     "execution_count": 12,
     "metadata": {},
     "output_type": "execute_result"
    }
   ],
   "source": [
    "brightness_1(im_file_1)"
   ]
  },
  {
   "cell_type": "code",
   "execution_count": 13,
   "metadata": {},
   "outputs": [
    {
     "data": {
      "text/plain": [
       "210.41391829378688"
      ]
     },
     "execution_count": 13,
     "metadata": {},
     "output_type": "execute_result"
    }
   ],
   "source": [
    "brightness_2(im_file_1)"
   ]
  },
  {
   "cell_type": "code",
   "execution_count": 14,
   "metadata": {
    "collapsed": true
   },
   "outputs": [],
   "source": [
    "# brightness_3(im_file_1)\n",
    "# brightness_4(im_file_1)\n",
    "# brightness_5(im_file_1)"
   ]
  },
  {
   "cell_type": "code",
   "execution_count": 15,
   "metadata": {},
   "outputs": [
    {
     "data": {
      "text/plain": [
       "188.48513201958838"
      ]
     },
     "execution_count": 15,
     "metadata": {},
     "output_type": "execute_result"
    }
   ],
   "source": [
    "brightness_1(im_file_2)"
   ]
  },
  {
   "cell_type": "code",
   "execution_count": 16,
   "metadata": {},
   "outputs": [
    {
     "data": {
      "text/plain": [
       "191.95724852093815"
      ]
     },
     "execution_count": 16,
     "metadata": {},
     "output_type": "execute_result"
    }
   ],
   "source": [
    "brightness_2(im_file_2)"
   ]
  },
  {
   "cell_type": "code",
   "execution_count": 17,
   "metadata": {
    "collapsed": true
   },
   "outputs": [],
   "source": [
    "# brightness_3(im_file_2)\n",
    "# brightness_4(im_file_2)\n",
    "# brightness_5(im_file_2)"
   ]
  },
  {
   "cell_type": "code",
   "execution_count": 18,
   "metadata": {},
   "outputs": [
    {
     "name": "stdout",
     "output_type": "stream",
     "text": [
      "download.png\t0.8098998943777846\n",
      "download (1).png\t0.7362700469515172\n"
     ]
    }
   ],
   "source": [
    "import sys\n",
    "from PIL import Image\n",
    "\n",
    "def calculate_brightness(image):\n",
    "    greyscale_image = image.convert('L')\n",
    "    histogram = greyscale_image.histogram()\n",
    "    pixels = sum(histogram)\n",
    "    brightness = scale = len(histogram)\n",
    "\n",
    "    for index in range(0, scale):\n",
    "        ratio = histogram[index] / pixels\n",
    "        brightness += ratio * (-scale + index)\n",
    "\n",
    "    return 1 if brightness == 255 else brightness / scale\n",
    "\n",
    "imgs = [im_file_1, im_file_2]\n",
    "if __name__ == '__main__':\n",
    "    for file in imgs:\n",
    "        image = Image.open(file)\n",
    "        print(\"%s\\t%s\" % (file, calculate_brightness(image)))"
   ]
  },
  {
   "cell_type": "code",
   "execution_count": null,
   "metadata": {
    "collapsed": true
   },
   "outputs": [],
   "source": []
  }
 ],
 "metadata": {
  "kernelspec": {
   "display_name": "Python 3",
   "language": "python",
   "name": "python3"
  },
  "language_info": {
   "codemirror_mode": {
    "name": "ipython",
    "version": 3
   },
   "file_extension": ".py",
   "mimetype": "text/x-python",
   "name": "python",
   "nbconvert_exporter": "python",
   "pygments_lexer": "ipython3",
   "version": "3.6.8"
  }
 },
 "nbformat": 4,
 "nbformat_minor": 2
}
